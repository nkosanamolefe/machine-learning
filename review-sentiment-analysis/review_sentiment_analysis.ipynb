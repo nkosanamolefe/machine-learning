{
  "nbformat": 4,
  "nbformat_minor": 0,
  "metadata": {
    "colab": {
      "provenance": []
    },
    "kernelspec": {
      "name": "python3",
      "display_name": "Python 3"
    },
    "language_info": {
      "name": "python"
    }
  },
  "cells": [
    {
      "cell_type": "code",
      "execution_count": null,
      "metadata": {
        "id": "LBzsAmyqaZqR"
      },
      "outputs": [],
      "source": [
        "import pandas as pd\n",
        "from sklearn.model_selection import train_test_split\n",
        "from sklearn.feature_extraction.text import TfidfVectorizer\n",
        "from sklearn.linear_model import LogisticRegression\n",
        "from sklearn.metrics import classification_report\n",
        "import nltk\n",
        "# nlrk.download('stopwords')\n",
        "from nltk.corpus import stopwords\n",
        "from nltk.stem import word_tokenize\n",
        "import re"
      ]
    },
    {
      "cell_type": "code",
      "source": [
        "# Data loading\n"
      ],
      "metadata": {
        "id": "Z0NQjYxbboY4"
      },
      "execution_count": null,
      "outputs": []
    }
  ]
}